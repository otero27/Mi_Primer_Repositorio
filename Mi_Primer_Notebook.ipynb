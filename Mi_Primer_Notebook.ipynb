{
  "nbformat": 4,
  "nbformat_minor": 0,
  "metadata": {
    "colab": {
      "provenance": [],
      "authorship_tag": "ABX9TyNhsYzrJ7NMsw0D4cZbJpiV",
      "include_colab_link": true
    },
    "kernelspec": {
      "name": "python3",
      "display_name": "Python 3"
    },
    "language_info": {
      "name": "python"
    }
  },
  "cells": [
    {
      "cell_type": "markdown",
      "metadata": {
        "id": "view-in-github",
        "colab_type": "text"
      },
      "source": [
        "<a href=\"https://colab.research.google.com/github/otero27/Mi_Primer_Repositorio/blob/main/Mi_Primer_Notebook.ipynb\" target=\"_parent\"><img src=\"https://colab.research.google.com/assets/colab-badge.svg\" alt=\"Open In Colab\"/></a>"
      ]
    },
    {
      "cell_type": "code",
      "execution_count": 5,
      "metadata": {
        "colab": {
          "base_uri": "https://localhost:8080/"
        },
        "id": "V1-8L6tqjKdf",
        "outputId": "b6101c91-65cc-40c7-ffb6-dc9fea1335b8"
      },
      "outputs": [
        {
          "output_type": "stream",
          "name": "stdout",
          "text": [
            "Hola Wilson\n",
            "8\n",
            "15\n"
          ]
        }
      ],
      "source": [
        "name = \"Wilson\"\n",
        "print(\"Hola\", name)\n",
        "a=3\n",
        "b=5\n",
        "print(a+b)\n",
        "print(a*b)\n"
      ]
    },
    {
      "cell_type": "code",
      "source": [],
      "metadata": {
        "id": "PazLkIqnkHpP"
      },
      "execution_count": null,
      "outputs": []
    }
  ]
}