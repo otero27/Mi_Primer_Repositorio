{
  "nbformat": 4,
  "nbformat_minor": 0,
  "metadata": {
    "colab": {
      "provenance": [],
      "authorship_tag": "ABX9TyOF4Mu0dOEjtCjRvvS0TOFN",
      "include_colab_link": true
    },
    "kernelspec": {
      "name": "python3",
      "display_name": "Python 3"
    },
    "language_info": {
      "name": "python"
    }
  },
  "cells": [
    {
      "cell_type": "markdown",
      "metadata": {
        "id": "view-in-github",
        "colab_type": "text"
      },
      "source": [
        "<a href=\"https://colab.research.google.com/github/otero27/Mi_Primer_Repositorio/blob/main/Taller_2Algoritmos.ipynb\" target=\"_parent\"><img src=\"https://colab.research.google.com/assets/colab-badge.svg\" alt=\"Open In Colab\"/></a>"
      ]
    },
    {
      "cell_type": "markdown",
      "source": [
        "1. Información de un Libro\n",
        "\n",
        "Diseña un programa que muestre la siguiente información sobre un libro:\n",
        "• Título del libro\n",
        "• Autor del libro\n",
        "• Precio del libro\n",
        "• Año de publicación"
      ],
      "metadata": {
        "id": "30LKspZw64zD"
      }
    },
    {
      "cell_type": "markdown",
      "source": [
        "Algoritmo\n",
        "1. Inicio\n",
        "2. Ingresar el título del libro\n",
        "3. Ingresar el autor del libro\n",
        "4. Ingresar el precio del libro\n",
        "5. Ingresar el año de publicación del libro\n",
        "6. Mostrar la información del libro (título, autor, precio, año de publicación)\n",
        "7. Fin.\n",
        "\n",
        "\n",
        "\n",
        "\n",
        "\n"
      ],
      "metadata": {
        "id": "lx5Vv6TP7PJc"
      }
    },
    {
      "cell_type": "markdown",
      "source": [
        "Pseudocódigo"
      ],
      "metadata": {
        "id": "OxjLlesf8LyZ"
      }
    },
    {
      "cell_type": "code",
      "source": [
        "Inicio\n",
        "   Leer título_del_libro\n",
        "   Leer autor_del_libro\n",
        "   Leer precio_del_libro\n",
        "   Leer año_de_publicacion\n",
        "   Escribir \"Título: \", título_del_libro\n",
        "   Escribir \"Autor: \", autor_del_libro\n",
        "   Escribir \"Precio: $\", precio_del_libro\n",
        "   Escribir \"Año de publicación: \", año_de_publicacion\n",
        "Fin"
      ],
      "metadata": {
        "id": "xVJdLrVf8FPl"
      },
      "execution_count": null,
      "outputs": []
    },
    {
      "cell_type": "markdown",
      "source": [
        "Diagrama de flujo"
      ],
      "metadata": {
        "id": "JwPw41RK8_2V"
      }
    },
    {
      "cell_type": "code",
      "source": [
        "+--------------------------+\n",
        "|          Inicio           |\n",
        "+--------------------------+\n",
        "            |\n",
        "            V\n",
        "+--------------------------+\n",
        "| Ingresar título del libro |\n",
        "+--------------------------+\n",
        "            |\n",
        "            V\n",
        "+--------------------------+\n",
        "| Ingresar autor del libro  |\n",
        "+--------------------------+\n",
        "            |\n",
        "            V\n",
        "+--------------------------+\n",
        "| Ingresar precio del libro |\n",
        "+--------------------------+\n",
        "            |\n",
        "            V\n",
        "+--------------------------+\n",
        "| Ingresar año de publicación |\n",
        "+--------------------------+\n",
        "            |\n",
        "            V\n",
        "+--------------------------+\n",
        "|   Mostrar información    |\n",
        "+--------------------------+\n",
        "            |\n",
        "            V\n",
        "+--------------------------+\n",
        "|           Fin            |\n",
        "+--------------------------+"
      ],
      "metadata": {
        "id": "lo4ODkZN8Jkf"
      },
      "execution_count": null,
      "outputs": []
    },
    {
      "cell_type": "markdown",
      "source": [
        "2. Cálculo de Consumo de Energía\n",
        "\n",
        "Un electrodoméstico tiene una potencia de 1500 vatios y se usa durante 3 horas al día. Diseña un\n",
        "programa que calcule el consumo de energía en kilovatios-hora (kWh) al mes, suponiendo que el mes\n",
        "tiene 30 días."
      ],
      "metadata": {
        "id": "jUiChnI-9F6t"
      }
    },
    {
      "cell_type": "markdown",
      "source": [
        "Algoritmo\n",
        "1. Inicio.\n",
        "2. Definir la potencia del electrodoméstico (1500 vatios).\n",
        "3. Definir el tiempo de uso diario en horas (3 horas).\n",
        "4. Calcular el consumo diario en kWh.\n",
        "5. Calcular el consumo mensual (multiplicar por 30 días).\n",
        "6. Mostrar el consumo de energía mensual.\n",
        "7. Fin.\n",
        "\n",
        "\n",
        "\n"
      ],
      "metadata": {
        "id": "HxK9s-1Z9WxE"
      }
    },
    {
      "cell_type": "markdown",
      "source": [
        "Pseudocódigo"
      ],
      "metadata": {
        "id": "hN5PgJNe9p-5"
      }
    },
    {
      "cell_type": "code",
      "source": [
        "Inicio\n",
        "   Definirpotencia=1500// en vatiosDefinirhoras_diarias=3// en horasDefinirdias=30// días en un mes\n",
        "   consumo_diario = (potencia / 1000) * horas_diarias // en kWh\n",
        "   consumo_mensual = consumo_diario * dias\n",
        "   Escribir \"Consumo mensual en kWh: \", consumo_mensual\n",
        "Fin"
      ],
      "metadata": {
        "id": "fHGH0-OF9rAn"
      },
      "execution_count": null,
      "outputs": []
    },
    {
      "cell_type": "markdown",
      "source": [
        "Diagrama de flujo"
      ],
      "metadata": {
        "id": "PLS5d6RO9u06"
      }
    },
    {
      "cell_type": "code",
      "source": [
        "+--------------------------+\n",
        "|          Inicio           |\n",
        "+--------------------------+\n",
        "            |\n",
        "            V\n",
        "+--------------------------+\n",
        "|  Definir potencia (1500W) |\n",
        "+--------------------------+\n",
        "            |\n",
        "            V\n",
        "+--------------------------+\n",
        "| Definir horas diarias (3) |\n",
        "+--------------------------+\n",
        "            |\n",
        "            V\n",
        "+--------------------------+\n",
        "|   Calcular consumo diario |\n",
        "+--------------------------+\n",
        "            |\n",
        "            V\n",
        "+--------------------------+\n",
        "|   Calcular consumo mensual|\n",
        "+--------------------------+\n",
        "            |\n",
        "            V\n",
        "+--------------------------+\n",
        "| Mostrar consumo mensual   |\n",
        "+--------------------------+\n",
        "            |\n",
        "            V\n",
        "+--------------------------+\n",
        "|           Fin            |\n",
        "+--------------------------+"
      ],
      "metadata": {
        "id": "5pKHwG4i94ro"
      },
      "execution_count": null,
      "outputs": []
    },
    {
      "cell_type": "markdown",
      "source": [
        "3. 3.\tPrograma de Compra y Venta de Equipos Electrónicos El mes pasado, Ana compró un equipo electrónico. Aquí están los detalles de la compra:\n",
        "* El número de equipos que Ana compró fue de 50.\n",
        "* El precio de cada equipo fue de 150.\n",
        "* Ana pagó a su proveedor una comisión del 3% sobre el monto total de la compra. Dos semanas después, Ana vendió los equipos. Aquí están los detalles de la venta:\n",
        "* El número de equipos que Ana vendió fue de 50.\n",
        "* El precio de venta de cada equipo fue de $175.\n",
        "* Ana pagó a su proveedor una comisión del 3% sobre el monto total de la venta. Diseña un programa que muestre la siguiente información:\n",
        "* El monto total pagado por la compra de los equipos.\n",
        "* El monto de la comisión pagada al proveedor en la compra.\n",
        "* El monto total recibido por la venta de los equipos.\n",
        "* El monto de la comisión pagada al proveedor en la venta.\n",
        "* ¿Ganó Ana dinero o perdió dinero? Muestra la cantidad de ganancia o pérdida después de la venta, considerando todos los costos y comisiones.\n"
      ],
      "metadata": {
        "id": "mJu68fC6-h6D"
      }
    },
    {
      "cell_type": "markdown",
      "source": [
        "Algortimo"
      ],
      "metadata": {
        "id": "ZYarJ_7KAAEi"
      }
    },
    {
      "cell_type": "code",
      "source": [
        "Inicio.\n",
        "Definir el número de equipos comprados (50).\n",
        "Definir el precio por equipo comprado ($150).\n",
        "Definir la comisión de compra (3%).\n",
        "Calcular el monto total de la compra.\n",
        "Calcular la comisión sobre la compra.\n",
        "Definir el número de equipos vendidos (50).\n",
        "Definir el precio por equipo vendido ($175).\n",
        "Definir la comisión de venta (3%).\n",
        "Calcular el monto total de la venta.\n",
        "Calcular la comisión sobre la venta.\n",
        "Calcular la ganancia o pérdida.\n",
        "Mostrar resultados (montos y ganancia/pérdida).\n",
        "Fin."
      ],
      "metadata": {
        "id": "lTtk3M8Z_0Pf"
      },
      "execution_count": null,
      "outputs": []
    },
    {
      "cell_type": "markdown",
      "source": [
        "Pseudocódigo"
      ],
      "metadata": {
        "id": "mOppM0WtAC7-"
      }
    },
    {
      "cell_type": "code",
      "source": [
        "Inicio\n",
        "   Definirnumero_equipos_comprados=50Definirprecio_compra=150Definircomision_compra=0.03\n",
        "   total_compra = numero_equipos_comprados * precio_compracomision_pagada_compra= total_compra * comision_compra\n",
        "\n",
        "   Definirnumero_equipos_vendidos=50Definirprecio_venta=175Definircomision_venta=0.03\n",
        "   total_venta = numero_equipos_vendidos * precio_ventacomision_pagada_venta= total_venta * comision_ventaganancia_perdida= (total_venta - comision_pagada_venta) - (total_compra + comision_pagada_compra)\n",
        "\n",
        "   Escribir \"Total pagado por la compra: $\", total_compra\n",
        "   Escribir \"Comisión pagada en la compra: $\", comision_pagada_compra\n",
        "   Escribir \"Total recibido por la venta: $\", total_venta\n",
        "   Escribir \"Comisión pagada en la venta: $\", comision_pagada_venta\n",
        "   Si ganancia_perdida >= 0 Entonces\n",
        "      Escribir \"Ganancia: $\", ganancia_perdida\n",
        "   Sino\n",
        "      Escribir \"Pérdida: $\", ganancia_perdida\n",
        "Fin"
      ],
      "metadata": {
        "id": "o16obDDsAFio"
      },
      "execution_count": null,
      "outputs": []
    },
    {
      "cell_type": "markdown",
      "source": [
        "Diagrama de flujo"
      ],
      "metadata": {
        "id": "f7KsfsXJAIOI"
      }
    },
    {
      "cell_type": "code",
      "source": [
        "+--------------------------+\n",
        "|          Inicio           |\n",
        "+--------------------------+\n",
        "            |\n",
        "            V\n",
        "+-------------------------------+\n",
        "| Definir datos de compra y venta|\n",
        "+-------------------------------+\n",
        "            |\n",
        "            V\n",
        "+-------------------------------+\n",
        "| Calcular monto total compra    |\n",
        "+-------------------------------+\n",
        "            |\n",
        "            V\n",
        "+-------------------------------+\n",
        "| Calcular comisión de compra    |\n",
        "+-------------------------------+\n",
        "            |\n",
        "            V\n",
        "+-------------------------------+\n",
        "| Calcular monto total venta     |\n",
        "+-------------------------------+\n",
        "            |\n",
        "            V\n",
        "+-------------------------------+\n",
        "| Calcular comisión de venta     |\n",
        "+-------------------------------+\n",
        "            |\n",
        "            V\n",
        "+-------------------------------+\n",
        "|  Calcular ganancia o pérdida   |\n",
        "+-------------------------------+\n",
        "            |\n",
        "            V\n",
        "+-------------------------------+\n",
        "| Mostrar resultados y ganancia/ |\n",
        "|         pérdida                |\n",
        "+-------------------------------+\n",
        "            |\n",
        "            V\n",
        "+-------------------------------+\n",
        "|             Fin               |\n",
        "+-------------------------------+"
      ],
      "metadata": {
        "id": "Wv8mkeaiAMQ0"
      },
      "execution_count": null,
      "outputs": []
    }
  ]
}