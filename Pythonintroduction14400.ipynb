{
  "nbformat": 4,
  "nbformat_minor": 0,
  "metadata": {
    "colab": {
      "provenance": [],
      "authorship_tag": "ABX9TyNbL677DGGTL3nCXXNPRwNF",
      "include_colab_link": true
    },
    "kernelspec": {
      "name": "python3",
      "display_name": "Python 3"
    },
    "language_info": {
      "name": "python"
    }
  },
  "cells": [
    {
      "cell_type": "markdown",
      "metadata": {
        "id": "view-in-github",
        "colab_type": "text"
      },
      "source": [
        "<a href=\"https://colab.research.google.com/github/otero27/Mi_Primer_Repositorio/blob/main/Pythonintroduction14400.ipynb\" target=\"_parent\"><img src=\"https://colab.research.google.com/assets/colab-badge.svg\" alt=\"Open In Colab\"/></a>"
      ]
    },
    {
      "cell_type": "markdown",
      "source": [
        "# Mis primeros pasos con Python(titulos)\n",
        "### Fundamentos de Programación (subtitulos)\n",
        "\n",
        "**Nombre:** Wilson Otero(negrilla)\n",
        "\n",
        "*Fecha de creación: 21 de agosto de 2024* (cursiva)\n",
        "\n",
        "_email:_ Wilson.otero@upb.edu.co (cursiva)\n",
        "\n",
        "*excelsius*"
      ],
      "metadata": {
        "id": "7VHj-WhC8Ma0"
      }
    },
    {
      "cell_type": "code",
      "source": [
        "# Mis primeros pasitos (muy pequeñitos)\n",
        "\n",
        "print(\"Hola Mundo\")\n",
        "\n",
        "name= \"Wilson\"\n",
        "age= 18\n",
        "\n",
        "print(\"Mi nombre es\", name, \"y mi edad es\", age)\n"
      ],
      "metadata": {
        "colab": {
          "base_uri": "https://localhost:8080/"
        },
        "id": "-OXGrEtaAYqZ",
        "outputId": "6a2b0719-3ec2-41ef-8e0f-581b86d40876"
      },
      "execution_count": null,
      "outputs": [
        {
          "output_type": "stream",
          "name": "stdout",
          "text": [
            "Hola Mundo\n",
            "Mi nombre es Wilson y mi edad es 18\n"
          ]
        }
      ]
    },
    {
      "cell_type": "code",
      "source": [
        "# Operaciones matematicas basicas\n",
        "\n",
        "a = 10\n",
        "b = 7\n",
        "print(a + b) # suma\n",
        "print(a - b) # resta\n",
        "print(a * b) # multiplicación\n",
        "print(a / b) # división\n",
        "print(a % b) # modulo( resto de la divisíon)\n",
        "print( a ** b) # exponenciación\n",
        "print( a // b) # división entera"
      ],
      "metadata": {
        "colab": {
          "base_uri": "https://localhost:8080/"
        },
        "id": "vyqRPJjbBeL9",
        "outputId": "e303a626-9c1f-4d0a-97f8-81ef5cf77e1b"
      },
      "execution_count": null,
      "outputs": [
        {
          "output_type": "stream",
          "name": "stdout",
          "text": [
            "17\n",
            "3\n",
            "70\n",
            "1.4285714285714286\n",
            "3\n",
            "10000000\n",
            "1\n"
          ]
        }
      ]
    },
    {
      "cell_type": "code",
      "source": [
        "# Cambio de números\n",
        "\n",
        "salchipapa = 20000\n",
        "bebida = 2000\n",
        "total = salchipapa + bebida\n",
        "print (total)\n",
        "bebida = 3500\n",
        "total = salchipapa + bebida\n",
        "print(total)"
      ],
      "metadata": {
        "colab": {
          "base_uri": "https://localhost:8080/"
        },
        "id": "Ama_3yg3EPC8",
        "outputId": "5e6375e4-5463-47bb-f665-6e3590d18a3b"
      },
      "execution_count": null,
      "outputs": [
        {
          "output_type": "stream",
          "name": "stdout",
          "text": [
            "22000\n",
            "23500\n"
          ]
        }
      ]
    },
    {
      "cell_type": "code",
      "source": [
        "# Concatenación\n",
        "\n",
        "name = \"Wilson\"\n",
        "lastname = \"Manuel\"\n",
        "# fullname - name + ´ ´ + lastname\n",
        "fullname = name + \" \" + lastname\n",
        "print(\"_\"*20)\n",
        "print(fullname)\n",
        "print(\"_\" * 20)"
      ],
      "metadata": {
        "colab": {
          "base_uri": "https://localhost:8080/"
        },
        "id": "FPBzuMLDE6eq",
        "outputId": "49f6771e-ad09-49a7-a8c1-e82f5170344f"
      },
      "execution_count": null,
      "outputs": [
        {
          "output_type": "stream",
          "name": "stdout",
          "text": [
            "____________________\n",
            "Wilson Manuel\n",
            "____________________\n"
          ]
        }
      ]
    },
    {
      "cell_type": "code",
      "source": [
        "#Incrementos\n",
        "a = 10\n",
        "print(\"a =\", a)\n",
        "b = 15\n",
        "a += b\n",
        "print(\"a =\", a)"
      ],
      "metadata": {
        "colab": {
          "base_uri": "https://localhost:8080/"
        },
        "id": "UUnQaOYUHfpy",
        "outputId": "4f850b57-a1d1-40e0-ad37-10b63dd33e55"
      },
      "execution_count": null,
      "outputs": [
        {
          "output_type": "stream",
          "name": "stdout",
          "text": [
            "a = 10\n",
            "a = 25\n"
          ]
        }
      ]
    },
    {
      "cell_type": "code",
      "source": [
        "# Multi - Line\n",
        "song = \"\"\"\n",
        "\n",
        "Mmm yo no puedo dejar de quererte\n",
        "¿Baby, para qué?\n",
        "Si yo contigo me siento bien, ehh\n",
        "Se me hace difícil no verte\n",
        "Te explico porque\n",
        "Tú para mí eres mi gata oficial, uahh\n",
        "\"\"\"\n",
        "\n",
        "print(song)"
      ],
      "metadata": {
        "colab": {
          "base_uri": "https://localhost:8080/"
        },
        "id": "M_s9IfnSHjqy",
        "outputId": "3ee3fcb8-fb63-4341-eca4-c4359034cdcc"
      },
      "execution_count": null,
      "outputs": [
        {
          "output_type": "stream",
          "name": "stdout",
          "text": [
            "\n",
            "\n",
            "Mmm yo no puedo dejar de quererte\n",
            "¿Baby, para qué?\n",
            "Si yo contigo me siento bien, ehh\n",
            "Se me hace difícil no verte\n",
            "Te explico porque\n",
            "Tú para mí eres mi gata oficial, uahh\n",
            "\n"
          ]
        }
      ]
    },
    {
      "cell_type": "code",
      "source": [
        "a = 27\n",
        "b = 8\n",
        "a = float(input(\"Ingrese el primer número: \"))\n",
        "b = float(input(\"Ingrese el segundo número: \"))\n",
        "c = a + b\n",
        "\n",
        "print(c)"
      ],
      "metadata": {
        "id": "KDFXhiZbIfiG",
        "colab": {
          "base_uri": "https://localhost:8080/"
        },
        "outputId": "7fb34eb1-c14f-4b97-fc63-829860565292"
      },
      "execution_count": 8,
      "outputs": [
        {
          "output_type": "stream",
          "name": "stdout",
          "text": [
            "Ingrese el primer número: 10\n",
            "Ingrese el segundo número: 5\n",
            "15.0\n"
          ]
        }
      ]
    },
    {
      "cell_type": "code",
      "source": [
        "# / / Programa para calcular el IMC a partir del peso en kg y la altura en m\n",
        "\n",
        "# / / Obtener datos\n",
        "peso = float(input(\"ingrese el peso en kg:\"))\n",
        "altura = float(input(\"Ingrese la altura en m:\"))\n",
        "\n",
        "# / / cálculo\n",
        "imc = peso / altura ** 2\n",
        "\n",
        "# / / Resultado\n",
        "print(\"El IMC es\", round(imc,2))\n"
      ],
      "metadata": {
        "id": "VoJFVotOLH5J",
        "colab": {
          "base_uri": "https://localhost:8080/"
        },
        "outputId": "d3644575-a631-40db-a87d-685bb22a6fed"
      },
      "execution_count": null,
      "outputs": [
        {
          "output_type": "stream",
          "name": "stdout",
          "text": [
            "ingrese el peso en kg:64\n",
            "Ingrese la altura en m:1.74\n",
            "El IMC es 21.14\n"
          ]
        }
      ]
    },
    {
      "cell_type": "code",
      "source": [],
      "metadata": {
        "id": "GScjjSolu7yW"
      },
      "execution_count": null,
      "outputs": []
    }
  ]
}